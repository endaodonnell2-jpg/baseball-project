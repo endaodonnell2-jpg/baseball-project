{
 "cells": [
  {
   "cell_type": "code",
   "execution_count": 39,
   "id": "20cb9627-db63-4ee3-8da4-754ac03f4621",
   "metadata": {},
   "outputs": [
    {
     "name": "stdout",
     "output_type": "stream",
     "text": [
      "(50, 6)\n",
      "\n",
      "[[187.  81.  28. 105. 319.   6.]\n",
      " [184.  78.  33.  66. 360.  25.]]\n",
      "\n",
      "[[184.  78.  33.  66. 360.  25.]\n",
      " [188.  78.  27.  65. 363.  23.]\n",
      " [182.  77.  25. 119. 283.  21.]\n",
      " [182.  79.  27. 129. 311.  21.]\n",
      " [176.  84.  20. 108. 292.  25.]\n",
      " [177.  76.  31.  69. 393.  28.]\n",
      " [192.  81.  33. 120. 253.  21.]\n",
      " [185.  79.  21.  82. 388.  25.]\n",
      " [185.  84.  24.  50. 267.  24.]\n",
      " [179.  80.  20.  60. 232.  25.]\n",
      " [186.  78.  27. 106. 341.  27.]\n",
      " [181.  78.  20.  80. 347.  22.]\n",
      " [194.  81.  21.  91. 327.  29.]\n",
      " [179.  77.  31.  65. 334.  26.]\n",
      " [175.  81.  20.  97. 232.  28.]\n",
      " [178.  77.  20.  61. 375.  22.]\n",
      " [188.  80.  33.  86. 314.  26.]\n",
      " [185.  84.  21.  81. 318.  27.]\n",
      " [181.  72.  25. 129. 308.  21.]]\n",
      "the avaerage of player who hit more than 20 homeruns is 24.526315789473685\n",
      "the number who scored more than 20 is 19\n"
     ]
    }
   ],
   "source": [
    "import numpy as np\n",
    "\n",
    "data = np.genfromtxt('baseball.csv', delimiter=',', skip_header=1)#We skip the header becasue it has the description\n",
    "print(data.shape)\n",
    "print()\n",
    "print(data[:2])  # show first 2 players\n",
    "print()\n",
    "#print(\"the home runs are listed below\")\n",
    "#print(data[:, -1])  #Extract and print the “HomeRuns” column for all players.\n",
    "\n",
    "#for hr in data[:, -1]: #Extract and print the “HomeRuns” column for all players. in a vertical line\n",
    "#    print(hr)\n",
    "\n",
    "mask = data[:, -1] > 20  #Filter the dataset to select only players who have hit more than 20 home runs.\n",
    "\n",
    "print(data[mask])\n",
    "filtered_data = data[mask]\n",
    "print(\"the avaerage of player who hit more than 20 homeruns is\", np.mean(filtered_data[:,-1])) #Calculate and print the average number of home runs among these players.\n",
    "print(\"the number who scored more than 20 is\", filtered_data.shape[0]) #is to also print the number of players who hit more than 20 Homeruns\n",
    "\n"
   ]
  },
  {
   "cell_type": "code",
   "execution_count": 54,
   "id": "5a814525-7a90-4286-afe7-66d14323977b",
   "metadata": {},
   "outputs": [
    {
     "name": "stdout",
     "output_type": "stream",
     "text": [
      "Have any players hit more than 50 homeruns = False\n",
      "Are all players taller than 150 cm = True\n",
      "[[184.  78.  33.  66. 360.  25.]\n",
      " [188.  78.  27.  65. 363.  23.]\n",
      " [182.  77.  25. 119. 283.  21.]\n",
      " [182.  79.  27. 129. 311.  21.]\n",
      " [176.  84.  20. 108. 292.  25.]\n",
      " [177.  76.  31.  69. 393.  28.]\n",
      " [192.  81.  33. 120. 253.  21.]\n",
      " [185.  79.  21.  82. 388.  25.]\n",
      " [185.  84.  24.  50. 267.  24.]\n",
      " [179.  80.  20.  60. 232.  25.]\n",
      " [186.  78.  27. 106. 341.  27.]\n",
      " [181.  78.  20.  80. 347.  22.]\n",
      " [194.  81.  21.  91. 327.  29.]\n",
      " [179.  77.  31.  65. 334.  26.]\n",
      " [175.  81.  20.  97. 232.  28.]\n",
      " [178.  77.  20.  61. 375.  22.]\n",
      " [188.  80.  33.  86. 314.  26.]\n",
      " [185.  84.  21.  81. 318.  27.]\n",
      " [181.  72.  25. 129. 308.  21.]]\n"
     ]
    }
   ],
   "source": [
    "\n",
    "print(\"Have any players hit more than 50 homeruns =\",np.any(data[:, -1]>50))         #Check if any player hit more than 50 home runs.\n",
    "print(\"Are all players taller than 150 cm =\",np.all(data[:,0]>150))                  #Check if all players are taller than 150 cm.\n",
    "mask = (data[:,-1]>20) & (data[:,-2]>0.250)                                          #players who have more than 20 home runs AND a batting average above 0.250\n",
    "print(data[mask])"
   ]
  },
  {
   "cell_type": "code",
   "execution_count": null,
   "id": "d8daed29-c07a-4706-a841-90a994443998",
   "metadata": {},
   "outputs": [],
   "source": []
  }
 ],
 "metadata": {
  "kernelspec": {
   "display_name": "Python 3 (ipykernel)",
   "language": "python",
   "name": "python3"
  },
  "language_info": {
   "codemirror_mode": {
    "name": "ipython",
    "version": 3
   },
   "file_extension": ".py",
   "mimetype": "text/x-python",
   "name": "python",
   "nbconvert_exporter": "python",
   "pygments_lexer": "ipython3",
   "version": "3.13.3"
  }
 },
 "nbformat": 4,
 "nbformat_minor": 5
}
